{
 "cells": [
  {
   "cell_type": "code",
   "execution_count": 2,
   "metadata": {},
   "outputs": [],
   "source": [
    "from selenium import webdriver\n",
    "from selenium.webdriver.firefox import options\n",
    "from selenium.webdriver.support.ui import WebDriverWait\n",
    "from selenium.webdriver.support import expected_conditions as EC\n",
    "from selenium.common.exceptions import TimeoutException\n",
    "from selenium.webdriver.common.keys import Keys\n",
    "from selenium.webdriver.common.by import By\n",
    "import requests\n",
    "import csv\n",
    "import string\n",
    "from time import sleep\n",
    "import random\n",
    "import time\n",
    "import os\n",
    "import pandas as pd\n",
    "from random import randint\n",
    "\n"
   ]
  },
  {
   "cell_type": "code",
   "execution_count": 3,
   "metadata": {},
   "outputs": [],
   "source": [
    "driver = webdriver.Chrome()"
   ]
  },
  {
   "cell_type": "code",
   "execution_count": 4,
   "metadata": {},
   "outputs": [],
   "source": [
    "driver.get('https://www.facebook.com/')"
   ]
  },
  {
   "cell_type": "code",
   "execution_count": 5,
   "metadata": {},
   "outputs": [],
   "source": [
    "driver.get('https://www.facebook.com/pepsipk')"
   ]
  },
  {
   "cell_type": "code",
   "execution_count": 11,
   "metadata": {},
   "outputs": [],
   "source": [
    "\n",
    "driver.get('https://www.facebook.com/a41ef9dd-1ffe-4ddc-9c24-b7e5268a5d30')"
   ]
  },
  {
   "cell_type": "code",
   "execution_count": 26,
   "metadata": {},
   "outputs": [
    {
     "ename": "ElementClickInterceptedException",
     "evalue": "Message: element click intercepted: Element <video class=\"xh8yej3 x5yr21d x1lliihq\" playsinline=\"\" src=\"blob:https://www.facebook.com/9df3999d-c533-4bd8-9ef2-d17e3ae74ede\" style=\"display: block;\"></video> is not clickable at point (1011, 206). Other element would receive the click: <div class=\"x1ey2m1c x9f619 xds687c x10l6tqk x17qophe x13vifvy x1ypdohk\" role=\"presentation\"></div>\n  (Session info: chrome=106.0.5249.119)\nStacktrace:\nBacktrace:\n\tOrdinal0 [0x00501ED3+2236115]\n\tOrdinal0 [0x004992F1+1807089]\n\tOrdinal0 [0x003A66FD+812797]\n\tOrdinal0 [0x003DBEC7+1031879]\n\tOrdinal0 [0x003D9E6C+1023596]\n\tOrdinal0 [0x003D7A5B+1014363]\n\tOrdinal0 [0x003D66E7+1009383]\n\tOrdinal0 [0x003CC416+967702]\n\tOrdinal0 [0x003F1A8C+1120908]\n\tOrdinal0 [0x003CBD84+966020]\n\tOrdinal0 [0x003F1CA4+1121444]\n\tOrdinal0 [0x004059E2+1202658]\n\tOrdinal0 [0x003F18A6+1120422]\n\tOrdinal0 [0x003CA73D+960317]\n\tOrdinal0 [0x003CB71F+964383]\n\tGetHandleVerifier [0x007AE7E2+2743074]\n\tGetHandleVerifier [0x007A08D4+2685972]\n\tGetHandleVerifier [0x00592BAA+532202]\n\tGetHandleVerifier [0x00591990+527568]\n\tOrdinal0 [0x004A080C+1837068]\n\tOrdinal0 [0x004A4CD8+1854680]\n\tOrdinal0 [0x004A4DC5+1854917]\n\tOrdinal0 [0x004AED64+1895780]\n\tBaseThreadInitThunk [0x774AFA29+25]\n\tRtlGetAppContainerNamedObjectPath [0x776E7BBE+286]\n\tRtlGetAppContainerNamedObjectPath [0x776E7B8E+238]\n",
     "output_type": "error",
     "traceback": [
      "\u001b[1;31m---------------------------------------------------------------------------\u001b[0m",
      "\u001b[1;31mElementClickInterceptedException\u001b[0m          Traceback (most recent call last)",
      "\u001b[1;32m<ipython-input-26-f2ea9accc452>\u001b[0m in \u001b[0;36m<module>\u001b[1;34m\u001b[0m\n\u001b[0;32m      3\u001b[0m \u001b[1;32mfor\u001b[0m \u001b[0mvdos\u001b[0m \u001b[1;32min\u001b[0m \u001b[0mvideo\u001b[0m\u001b[1;33m:\u001b[0m\u001b[1;33m\u001b[0m\u001b[1;33m\u001b[0m\u001b[0m\n\u001b[0;32m      4\u001b[0m     \u001b[0mcount\u001b[0m \u001b[1;33m=\u001b[0m \u001b[0mcount\u001b[0m \u001b[1;33m+\u001b[0m\u001b[1;36m1\u001b[0m\u001b[1;33m\u001b[0m\u001b[1;33m\u001b[0m\u001b[0m\n\u001b[1;32m----> 5\u001b[1;33m     \u001b[0mvdos\u001b[0m\u001b[1;33m.\u001b[0m\u001b[0mclick\u001b[0m\u001b[1;33m(\u001b[0m\u001b[1;33m)\u001b[0m\u001b[1;33m\u001b[0m\u001b[1;33m\u001b[0m\u001b[0m\n\u001b[0m\u001b[0;32m      6\u001b[0m     \u001b[0msleep\u001b[0m\u001b[1;33m(\u001b[0m\u001b[1;36m5\u001b[0m\u001b[1;33m)\u001b[0m\u001b[1;33m\u001b[0m\u001b[1;33m\u001b[0m\u001b[0m\n\u001b[0;32m      7\u001b[0m     \u001b[0mdown\u001b[0m \u001b[1;33m=\u001b[0m \u001b[0mdriver\u001b[0m\u001b[1;33m.\u001b[0m\u001b[0mcurrent_url\u001b[0m\u001b[1;33m(\u001b[0m\u001b[1;33m)\u001b[0m\u001b[1;33m\u001b[0m\u001b[1;33m\u001b[0m\u001b[0m\n",
      "\u001b[1;32m~\\anaconda3\\lib\\site-packages\\selenium\\webdriver\\remote\\webelement.py\u001b[0m in \u001b[0;36mclick\u001b[1;34m(self)\u001b[0m\n\u001b[0;32m     86\u001b[0m     \u001b[1;32mdef\u001b[0m \u001b[0mclick\u001b[0m\u001b[1;33m(\u001b[0m\u001b[0mself\u001b[0m\u001b[1;33m)\u001b[0m \u001b[1;33m->\u001b[0m \u001b[1;32mNone\u001b[0m\u001b[1;33m:\u001b[0m\u001b[1;33m\u001b[0m\u001b[1;33m\u001b[0m\u001b[0m\n\u001b[0;32m     87\u001b[0m         \u001b[1;34m\"\"\"Clicks the element.\"\"\"\u001b[0m\u001b[1;33m\u001b[0m\u001b[1;33m\u001b[0m\u001b[0m\n\u001b[1;32m---> 88\u001b[1;33m         \u001b[0mself\u001b[0m\u001b[1;33m.\u001b[0m\u001b[0m_execute\u001b[0m\u001b[1;33m(\u001b[0m\u001b[0mCommand\u001b[0m\u001b[1;33m.\u001b[0m\u001b[0mCLICK_ELEMENT\u001b[0m\u001b[1;33m)\u001b[0m\u001b[1;33m\u001b[0m\u001b[1;33m\u001b[0m\u001b[0m\n\u001b[0m\u001b[0;32m     89\u001b[0m \u001b[1;33m\u001b[0m\u001b[0m\n\u001b[0;32m     90\u001b[0m     \u001b[1;32mdef\u001b[0m \u001b[0msubmit\u001b[0m\u001b[1;33m(\u001b[0m\u001b[0mself\u001b[0m\u001b[1;33m)\u001b[0m\u001b[1;33m:\u001b[0m\u001b[1;33m\u001b[0m\u001b[1;33m\u001b[0m\u001b[0m\n",
      "\u001b[1;32m~\\anaconda3\\lib\\site-packages\\selenium\\webdriver\\remote\\webelement.py\u001b[0m in \u001b[0;36m_execute\u001b[1;34m(self, command, params)\u001b[0m\n\u001b[0;32m    394\u001b[0m             \u001b[0mparams\u001b[0m \u001b[1;33m=\u001b[0m \u001b[1;33m{\u001b[0m\u001b[1;33m}\u001b[0m\u001b[1;33m\u001b[0m\u001b[1;33m\u001b[0m\u001b[0m\n\u001b[0;32m    395\u001b[0m         \u001b[0mparams\u001b[0m\u001b[1;33m[\u001b[0m\u001b[1;34m'id'\u001b[0m\u001b[1;33m]\u001b[0m \u001b[1;33m=\u001b[0m \u001b[0mself\u001b[0m\u001b[1;33m.\u001b[0m\u001b[0m_id\u001b[0m\u001b[1;33m\u001b[0m\u001b[1;33m\u001b[0m\u001b[0m\n\u001b[1;32m--> 396\u001b[1;33m         \u001b[1;32mreturn\u001b[0m \u001b[0mself\u001b[0m\u001b[1;33m.\u001b[0m\u001b[0m_parent\u001b[0m\u001b[1;33m.\u001b[0m\u001b[0mexecute\u001b[0m\u001b[1;33m(\u001b[0m\u001b[0mcommand\u001b[0m\u001b[1;33m,\u001b[0m \u001b[0mparams\u001b[0m\u001b[1;33m)\u001b[0m\u001b[1;33m\u001b[0m\u001b[1;33m\u001b[0m\u001b[0m\n\u001b[0m\u001b[0;32m    397\u001b[0m \u001b[1;33m\u001b[0m\u001b[0m\n\u001b[0;32m    398\u001b[0m     \u001b[1;32mdef\u001b[0m \u001b[0mfind_element\u001b[0m\u001b[1;33m(\u001b[0m\u001b[0mself\u001b[0m\u001b[1;33m,\u001b[0m \u001b[0mby\u001b[0m\u001b[1;33m=\u001b[0m\u001b[0mBy\u001b[0m\u001b[1;33m.\u001b[0m\u001b[0mID\u001b[0m\u001b[1;33m,\u001b[0m \u001b[0mvalue\u001b[0m\u001b[1;33m=\u001b[0m\u001b[1;32mNone\u001b[0m\u001b[1;33m)\u001b[0m \u001b[1;33m->\u001b[0m \u001b[0mWebElement\u001b[0m\u001b[1;33m:\u001b[0m\u001b[1;33m\u001b[0m\u001b[1;33m\u001b[0m\u001b[0m\n",
      "\u001b[1;32m~\\anaconda3\\lib\\site-packages\\selenium\\webdriver\\remote\\webdriver.py\u001b[0m in \u001b[0;36mexecute\u001b[1;34m(self, driver_command, params)\u001b[0m\n\u001b[0;32m    433\u001b[0m         \u001b[0mresponse\u001b[0m \u001b[1;33m=\u001b[0m \u001b[0mself\u001b[0m\u001b[1;33m.\u001b[0m\u001b[0mcommand_executor\u001b[0m\u001b[1;33m.\u001b[0m\u001b[0mexecute\u001b[0m\u001b[1;33m(\u001b[0m\u001b[0mdriver_command\u001b[0m\u001b[1;33m,\u001b[0m \u001b[0mparams\u001b[0m\u001b[1;33m)\u001b[0m\u001b[1;33m\u001b[0m\u001b[1;33m\u001b[0m\u001b[0m\n\u001b[0;32m    434\u001b[0m         \u001b[1;32mif\u001b[0m \u001b[0mresponse\u001b[0m\u001b[1;33m:\u001b[0m\u001b[1;33m\u001b[0m\u001b[1;33m\u001b[0m\u001b[0m\n\u001b[1;32m--> 435\u001b[1;33m             \u001b[0mself\u001b[0m\u001b[1;33m.\u001b[0m\u001b[0merror_handler\u001b[0m\u001b[1;33m.\u001b[0m\u001b[0mcheck_response\u001b[0m\u001b[1;33m(\u001b[0m\u001b[0mresponse\u001b[0m\u001b[1;33m)\u001b[0m\u001b[1;33m\u001b[0m\u001b[1;33m\u001b[0m\u001b[0m\n\u001b[0m\u001b[0;32m    436\u001b[0m             response['value'] = self._unwrap_value(\n\u001b[0;32m    437\u001b[0m                 response.get('value', None))\n",
      "\u001b[1;32m~\\anaconda3\\lib\\site-packages\\selenium\\webdriver\\remote\\errorhandler.py\u001b[0m in \u001b[0;36mcheck_response\u001b[1;34m(self, response)\u001b[0m\n\u001b[0;32m    245\u001b[0m                 \u001b[0malert_text\u001b[0m \u001b[1;33m=\u001b[0m \u001b[0mvalue\u001b[0m\u001b[1;33m[\u001b[0m\u001b[1;34m'alert'\u001b[0m\u001b[1;33m]\u001b[0m\u001b[1;33m.\u001b[0m\u001b[0mget\u001b[0m\u001b[1;33m(\u001b[0m\u001b[1;34m'text'\u001b[0m\u001b[1;33m)\u001b[0m\u001b[1;33m\u001b[0m\u001b[1;33m\u001b[0m\u001b[0m\n\u001b[0;32m    246\u001b[0m             \u001b[1;32mraise\u001b[0m \u001b[0mexception_class\u001b[0m\u001b[1;33m(\u001b[0m\u001b[0mmessage\u001b[0m\u001b[1;33m,\u001b[0m \u001b[0mscreen\u001b[0m\u001b[1;33m,\u001b[0m \u001b[0mstacktrace\u001b[0m\u001b[1;33m,\u001b[0m \u001b[0malert_text\u001b[0m\u001b[1;33m)\u001b[0m  \u001b[1;31m# type: ignore[call-arg]  # mypy is not smart enough here\u001b[0m\u001b[1;33m\u001b[0m\u001b[1;33m\u001b[0m\u001b[0m\n\u001b[1;32m--> 247\u001b[1;33m         \u001b[1;32mraise\u001b[0m \u001b[0mexception_class\u001b[0m\u001b[1;33m(\u001b[0m\u001b[0mmessage\u001b[0m\u001b[1;33m,\u001b[0m \u001b[0mscreen\u001b[0m\u001b[1;33m,\u001b[0m \u001b[0mstacktrace\u001b[0m\u001b[1;33m)\u001b[0m\u001b[1;33m\u001b[0m\u001b[1;33m\u001b[0m\u001b[0m\n\u001b[0m\u001b[0;32m    248\u001b[0m \u001b[1;33m\u001b[0m\u001b[0m\n\u001b[0;32m    249\u001b[0m     \u001b[1;32mdef\u001b[0m \u001b[0m_value_or_default\u001b[0m\u001b[1;33m(\u001b[0m\u001b[0mself\u001b[0m\u001b[1;33m,\u001b[0m \u001b[0mobj\u001b[0m\u001b[1;33m:\u001b[0m \u001b[0mMapping\u001b[0m\u001b[1;33m[\u001b[0m\u001b[0m_KT\u001b[0m\u001b[1;33m,\u001b[0m \u001b[0m_VT\u001b[0m\u001b[1;33m]\u001b[0m\u001b[1;33m,\u001b[0m \u001b[0mkey\u001b[0m\u001b[1;33m:\u001b[0m \u001b[0m_KT\u001b[0m\u001b[1;33m,\u001b[0m \u001b[0mdefault\u001b[0m\u001b[1;33m:\u001b[0m \u001b[0m_VT\u001b[0m\u001b[1;33m)\u001b[0m \u001b[1;33m->\u001b[0m \u001b[0m_VT\u001b[0m\u001b[1;33m:\u001b[0m\u001b[1;33m\u001b[0m\u001b[1;33m\u001b[0m\u001b[0m\n",
      "\u001b[1;31mElementClickInterceptedException\u001b[0m: Message: element click intercepted: Element <video class=\"xh8yej3 x5yr21d x1lliihq\" playsinline=\"\" src=\"blob:https://www.facebook.com/9df3999d-c533-4bd8-9ef2-d17e3ae74ede\" style=\"display: block;\"></video> is not clickable at point (1011, 206). Other element would receive the click: <div class=\"x1ey2m1c x9f619 xds687c x10l6tqk x17qophe x13vifvy x1ypdohk\" role=\"presentation\"></div>\n  (Session info: chrome=106.0.5249.119)\nStacktrace:\nBacktrace:\n\tOrdinal0 [0x00501ED3+2236115]\n\tOrdinal0 [0x004992F1+1807089]\n\tOrdinal0 [0x003A66FD+812797]\n\tOrdinal0 [0x003DBEC7+1031879]\n\tOrdinal0 [0x003D9E6C+1023596]\n\tOrdinal0 [0x003D7A5B+1014363]\n\tOrdinal0 [0x003D66E7+1009383]\n\tOrdinal0 [0x003CC416+967702]\n\tOrdinal0 [0x003F1A8C+1120908]\n\tOrdinal0 [0x003CBD84+966020]\n\tOrdinal0 [0x003F1CA4+1121444]\n\tOrdinal0 [0x004059E2+1202658]\n\tOrdinal0 [0x003F18A6+1120422]\n\tOrdinal0 [0x003CA73D+960317]\n\tOrdinal0 [0x003CB71F+964383]\n\tGetHandleVerifier [0x007AE7E2+2743074]\n\tGetHandleVerifier [0x007A08D4+2685972]\n\tGetHandleVerifier [0x00592BAA+532202]\n\tGetHandleVerifier [0x00591990+527568]\n\tOrdinal0 [0x004A080C+1837068]\n\tOrdinal0 [0x004A4CD8+1854680]\n\tOrdinal0 [0x004A4DC5+1854917]\n\tOrdinal0 [0x004AED64+1895780]\n\tBaseThreadInitThunk [0x774AFA29+25]\n\tRtlGetAppContainerNamedObjectPath [0x776E7BBE+286]\n\tRtlGetAppContainerNamedObjectPath [0x776E7B8E+238]\n"
     ]
    }
   ],
   "source": [
    "\n",
    "\n",
    "video = driver.find_elements(By.XPATH,\"//div/video[@src and @style='display: block;']\")\n",
    "count = 0\n",
    "for vdos in video:\n",
    "    count = count +1\n",
    "    vdos.click()\n",
    "    sleep(5)\n",
    "    vdos.click()\n",
    "    down = driver.current_url()\n",
    "    videos_name=\"img/\"+\"img_\"+str(count)+\".mp4\"\n",
    "    urllib.request.urlretrieve(down, videos_name)\n",
    "    driver.find_element(By.XPATH,\"//span/div[@aria-label='Close']\").click()\n",
    "    sleep(5)\n",
    "    "
   ]
  },
  {
   "cell_type": "code",
   "execution_count": 22,
   "metadata": {},
   "outputs": [
    {
     "data": {
      "text/plain": [
       "('img/img_2.mp4', <http.client.HTTPMessage at 0x180e7f1cf88>)"
      ]
     },
     "execution_count": 22,
     "metadata": {},
     "output_type": "execute_result"
    }
   ],
   "source": [
    "src = \"https://www.facebook.com/pepsipk/videos/772107693861422\"\n",
    "videos_name=\"img/\"+\"img_\"+str(\"2\")+\".mp4\"\n",
    "urllib.request.urlretrieve(src, videos_name)"
   ]
  },
  {
   "cell_type": "code",
   "execution_count": 25,
   "metadata": {},
   "outputs": [
    {
     "data": {
      "text/plain": [
       "'https://www.facebook.com/pepsipk/videos/772107693861422'"
      ]
     },
     "execution_count": 25,
     "metadata": {},
     "output_type": "execute_result"
    }
   ],
   "source": [
    "driver.current_url"
   ]
  },
  {
   "cell_type": "code",
   "execution_count": null,
   "metadata": {},
   "outputs": [],
   "source": []
  },
  {
   "cell_type": "code",
   "execution_count": null,
   "metadata": {},
   "outputs": [],
   "source": []
  },
  {
   "cell_type": "code",
   "execution_count": null,
   "metadata": {},
   "outputs": [],
   "source": []
  },
  {
   "cell_type": "code",
   "execution_count": null,
   "metadata": {},
   "outputs": [],
   "source": []
  },
  {
   "cell_type": "code",
   "execution_count": null,
   "metadata": {},
   "outputs": [],
   "source": []
  },
  {
   "cell_type": "code",
   "execution_count": null,
   "metadata": {},
   "outputs": [],
   "source": []
  },
  {
   "cell_type": "code",
   "execution_count": 6,
   "metadata": {},
   "outputs": [],
   "source": [
    "from selenium import webdriver\n",
    "from selenium.webdriver.firefox import options\n",
    "from selenium.webdriver.support.ui import WebDriverWait\n",
    "from selenium.webdriver.support import expected_conditions as EC\n",
    "from selenium.common.exceptions import TimeoutException\n",
    "from selenium.webdriver.common.keys import Keys\n",
    "from selenium.webdriver.common.by import By\n",
    "import requests\n",
    "import csv\n",
    "import string\n",
    "from time import sleep\n",
    "import random\n",
    "import time\n",
    "import os\n",
    "import pandas as pd\n",
    "from random import randint\n",
    "import shutil\n",
    "import time\n",
    "from sys import platform\n",
    "from selenium.webdriver.firefox import options\n",
    "from selenium.webdriver.support.ui import WebDriverWait\n",
    "from selenium.webdriver.support import expected_conditions as EC\n",
    "from selenium.common.exceptions import TimeoutException\n",
    "from selenium.webdriver.common.keys import Keys\n",
    "from selenium.webdriver.common.by import By\n",
    "import requests\n",
    "import csv\n",
    "import pandas as pd\n",
    "from time import sleep\n",
    "import random\n",
    "import time\n",
    "from datetime import date\n",
    "import os\n",
    "import urllib.request\n",
    "from datetime import datetime\n",
    "import time\n",
    "from random import randint\n",
    "from selenium import webdriver\n",
    "from selenium.webdriver.chrome.options import Options\n",
    "import json\n",
    "import requests\n"
   ]
  },
  {
   "cell_type": "code",
   "execution_count": 3,
   "metadata": {},
   "outputs": [],
   "source": [
    "driver = webdriver.Chrome()"
   ]
  },
  {
   "cell_type": "code",
   "execution_count": 4,
   "metadata": {},
   "outputs": [],
   "source": [
    "driver.get('https://www.instagram.com/')\n"
   ]
  },
  {
   "cell_type": "code",
   "execution_count": 7,
   "metadata": {},
   "outputs": [],
   "source": [
    "driver.get('https://www.instagram.com/aliciakeys/')"
   ]
  },
  {
   "cell_type": "code",
   "execution_count": null,
   "metadata": {},
   "outputs": [],
   "source": [
    "###### click on following\n",
    "driver.find_element(By.XPATH,\"//ul/li[3]\").click()\n",
    "sleep(randint(5,8))\n",
    "element = driver.find_element(By.XPATH,\"//div[@role='dialog']//div/div/div/div/div[@class='_aano']\")\n",
    "for i in range (0,10):\n",
    "    driver.execute_script('arguments[0].scrollTop = arguments[0].scrollHeight', element)\n",
    "    sleep(randint(5,8))\n",
    "##### get followers\n",
    "follower = []\n",
    "followers = driver.find_elements(By.XPATH,\"//div/span/a\")\n",
    "for followerr in followers:\n",
    "    follower_url= followerr.get_attribute('href')\n",
    "    follower.append(follower_url)\n",
    "# print(follower)\n",
    "\n",
    "for follower_url in follower:\n",
    "    listt=[follower_url]\n",
    "    with open(str(today)+'.csv','a',encoding=\"utf-8\", newline='') as csv_file:\n",
    "        writer = csv.writer(csv_file,lineterminator='\\n')\n",
    "        writer.writerows([listt],) \n",
    "driver.close()\n",
    "time.sleep(3)\n",
    "gl.stop()\n",
    "except:\n",
    "driver.close()\n",
    "time.sleep(3)\n",
    "gl.stop()\n",
    "return \"Profile is private \""
   ]
  },
  {
   "cell_type": "code",
   "execution_count": 27,
   "metadata": {},
   "outputs": [
    {
     "name": "stdout",
     "output_type": "stream",
     "text": [
      "50\n",
      "10\n"
     ]
    }
   ],
   "source": [
    "driver.find_element(By.XPATH,\"//ul/li[3]\").click()\n",
    "sleep(randint(5,8))\n",
    "element = driver.find_element(By.XPATH,\"//div[@role='dialog']//div/div/div/div/div[@class='_aano']\")\n",
    "sleep(randint(5,8))\n",
    "foll = 0\n",
    "while True:\n",
    "    sleep(2)\n",
    "    driver.execute_script('arguments[0].scrollTop = arguments[0].scrollHeight', element)\n",
    "    sleep(randint(5,8))\n",
    "    followers = driver.find_elements(By.XPATH,\"//div/span/a\")\n",
    "    if len(followers)==foll:\n",
    "        break\n",
    "    else:\n",
    "        foll = len(followers)\n",
    "        print( foll)\n",
    "        follower = []\n",
    "        listt = []\n",
    "        s = []\n",
    "#         followers = driver.find_elements(By.XPATH,\"//div/span/a\")\n",
    "        for followerr in followers:\n",
    "            follower_url= followerr.get_attribute('href')\n",
    "            follower.append(follower_url)\n",
    "        for i in follower:\n",
    "            if i not in s:\n",
    "                s.append(i)\n",
    "        for listt in s:\n",
    "            temp_list1=[listt]\n",
    "            today = date.today()\n",
    "            with open(str(today)+'.csv','a',encoding=\"utf-8\", newline='') as csv_file:\n",
    "                writer = csv.writer(csv_file,lineterminator='\\n')\n",
    "                writer.writerows([temp_list1],)\n",
    "    element = driver.find_element(By.XPATH,\"//div[@role='dialog']//div/div/div/div/div[@class='_aano']\")"
   ]
  },
  {
   "cell_type": "code",
   "execution_count": 26,
   "metadata": {},
   "outputs": [
    {
     "name": "stdout",
     "output_type": "stream",
     "text": [
      "['https://www.instagram.com/jordantrimby/', 'https://www.instagram.com/dlfrlwkd2233/', 'https://www.instagram.com/giannisoldanii/', 'https://www.instagram.com/mary.yyyyyy10/', 'https://www.instagram.com/muhammedrashidalmaktum/', 'https://www.instagram.com/saidaa.werfort77/', 'https://www.instagram.com/xn__aba/', 'https://www.instagram.com/ceo_cvv_lost/', 'https://www.instagram.com/gata_u7318/', 'https://www.instagram.com/ackbarfaishal/', 'https://www.instagram.com/akhfzann_/', 'https://www.instagram.com/anna_bee54/', 'https://www.instagram.com/ashjoneszc.u/', 'https://www.instagram.com/avicz_official/', 'https://www.instagram.com/joseph.bekono/', 'https://www.instagram.com/bobijoeitelconner/', 'https://www.instagram.com/dee_strings_/', 'https://www.instagram.com/fraserh.7._/', 'https://www.instagram.com/papagiohernandez/', 'https://www.instagram.com/hana_anhh/', 'https://www.instagram.com/ki_ki_ki_art/', 'https://www.instagram.com/ilyesjap01/', 'https://www.instagram.com/tu_parita_0312/', 'https://www.instagram.com/jchr1714/', 'https://www.instagram.com/jos_lkl/', 'https://www.instagram.com/_.j.martinez_/', 'https://www.instagram.com/kirana.nugroho.39/', 'https://www.instagram.com/haticee9848/', 'https://www.instagram.com/licia.zancan.9/', 'https://www.instagram.com/abraham.james_999__/', 'https://www.instagram.com/merdi.kasanda/', 'https://www.instagram.com/mlc_filtrao/', 'https://www.instagram.com/finemimosa/', 'https://www.instagram.com/naushadansari1372/', 'https://www.instagram.com/nyinyi567827/', 'https://www.instagram.com/nobel9549/', 'https://www.instagram.com/papatya_rose6/', 'https://www.instagram.com/de_lastborn6/', 'https://www.instagram.com/_mdluli_sir/', 'https://www.instagram.com/teddyb19off/', 'https://www.instagram.com/tugb_aagar/', 'https://www.instagram.com/tugba_agar1/', 'https://www.instagram.com/jamig2999/', 'https://www.instagram.com/_gulshan097/', 'https://www.instagram.com/amra.nadi/', 'https://www.instagram.com/zabrinanicolee/', 'https://www.instagram.com/sandra.iulia.3/', 'https://www.instagram.com/__.guhxn.__.exe/', 'https://www.instagram.com/war.io__tlpv/', 'https://www.instagram.com/condurat_irina_florentina/']\n"
     ]
    }
   ],
   "source": [
    "print(s)"
   ]
  },
  {
   "cell_type": "code",
   "execution_count": 23,
   "metadata": {},
   "outputs": [
    {
     "name": "stdout",
     "output_type": "stream",
     "text": [
      "2037\n",
      "['https://www.instagram.com/therealswizzz/']\n"
     ]
    }
   ],
   "source": [
    "\n",
    "follower = []\n",
    "listt = []\n",
    "s = []\n",
    "followers = driver.find_elements(By.XPATH,\"//div/span/a\")\n",
    "for followerr in followers:\n",
    "    follower_url= followerr.get_attribute('href')\n",
    "    follower.append(follower_url)\n",
    "for i in follower:\n",
    "    if i not in s:\n",
    "        s.append(i)\n",
    "for listt in s:\n",
    "    temp_list1=[listt]\n",
    "    today = date.today()\n",
    "    with open(str(today)+'.csv','a',encoding=\"utf-8\", newline='') as csv_file:\n",
    "        writer = csv.writer(csv_file,lineterminator='\\n')\n",
    "        writer.writerows([temp_list1],)\n",
    "\n",
    "    "
   ]
  },
  {
   "cell_type": "code",
   "execution_count": null,
   "metadata": {},
   "outputs": [],
   "source": [
    "for i in temp:\n",
    "    if i not in s:\n",
    "        s.append(i)\n",
    "for list1 in s:\n",
    "    temp_list1=[list1]\n",
    "    today = date.today()\n",
    "    with open(str(today)+'.csv','a',encoding=\"utf-8\", newline='') as csv_file:\n",
    "        writer = csv.writer(csv_file,lineterminator='\\n')\n",
    "        writer.writerows([temp_list1],)"
   ]
  },
  {
   "cell_type": "code",
   "execution_count": 17,
   "metadata": {},
   "outputs": [
    {
     "name": "stdout",
     "output_type": "stream",
     "text": [
      "2037\n"
     ]
    }
   ],
   "source": [
    "\n",
    "\n",
    "print(len(followers))"
   ]
  },
  {
   "cell_type": "code",
   "execution_count": 34,
   "metadata": {},
   "outputs": [
    {
     "name": "stdout",
     "output_type": "stream",
     "text": [
      "50\n"
     ]
    }
   ],
   "source": [
    "driver.find_element(By.XPATH,\"//ul/li[2]\").click()\n",
    "sleep(randint(5,8))\n",
    "element = driver.find_element(By.XPATH,\"//div[@role='dialog']//div/div/div/div/div[@class='_aano']\")\n",
    "sleep(randint(5,8))\n",
    "foll = 0\n",
    "followingg = []\n",
    "listt = []\n",
    "s = []\n",
    "while True:\n",
    "    element = driver.find_element(By.XPATH,\"//div[@role='dialog']//div/div/div/div/div[@class='_aano']\")\n",
    "    sleep(2)\n",
    "    driver.execute_script('arguments[0].scrollTop = arguments[0].scrollHeight', element)\n",
    "    sleep(randint(5,8))\n",
    "    following = driver.find_elements(By.XPATH,\"//div/span/a\")\n",
    "    if len(following)==foll:\n",
    "        break\n",
    "    else:\n",
    "        foll = len(following)\n",
    "        print( foll)\n",
    "\n",
    "        # followers = driver.find_elements(By.XPATH,\"//div/span/a\")\n",
    "        for following1 in following:\n",
    "            following_url= following1.get_attribute('href')\n",
    "            followingg.append(following_url)\n",
    "        for i in followingg:\n",
    "            if i not in s:\n",
    "                s.append(i)\n",
    "for listt in s:\n",
    "    temp_list1=[listt]\n",
    "    today = date.today()\n",
    "    with open(str(today)+'.csv','a',encoding=\"utf-8\", newline='') as csv_file:\n",
    "        writer = csv.writer(csv_file,lineterminator='\\n')\n",
    "        writer.writerows([temp_list1],)"
   ]
  },
  {
   "cell_type": "code",
   "execution_count": 31,
   "metadata": {},
   "outputs": [
    {
     "name": "stdout",
     "output_type": "stream",
     "text": [
      "600\n"
     ]
    }
   ],
   "source": [
    "print(len(s))"
   ]
  },
  {
   "cell_type": "code",
   "execution_count": null,
   "metadata": {},
   "outputs": [],
   "source": []
  }
 ],
 "metadata": {
  "kernelspec": {
   "display_name": "Python 3",
   "language": "python",
   "name": "python3"
  },
  "language_info": {
   "codemirror_mode": {
    "name": "ipython",
    "version": 3
   },
   "file_extension": ".py",
   "mimetype": "text/x-python",
   "name": "python",
   "nbconvert_exporter": "python",
   "pygments_lexer": "ipython3",
   "version": "3.7.6"
  }
 },
 "nbformat": 4,
 "nbformat_minor": 4
}
